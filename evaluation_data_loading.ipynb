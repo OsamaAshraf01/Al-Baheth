{
 "cells": [
  {
   "metadata": {},
   "cell_type": "raw",
   "source": "",
   "id": "fb2b73dded9d6384"
  },
  {
   "metadata": {
    "ExecuteTime": {
     "end_time": "2025-05-09T15:11:55.557473Z",
     "start_time": "2025-05-09T15:11:54.478485Z"
    }
   },
   "cell_type": "code",
   "source": [
    "import os\n",
    "import pandas as pd\n",
    "from pathlib import Path\n",
    "\n",
    "current_path = Path(os.getcwd())"
   ],
   "id": "2b808a24346922df",
   "outputs": [],
   "execution_count": 1
  },
  {
   "metadata": {
    "ExecuteTime": {
     "end_time": "2025-05-09T15:12:08.499410Z",
     "start_time": "2025-05-09T15:12:08.445914Z"
    }
   },
   "cell_type": "code",
   "source": [
    "documents = pd.read_csv(current_path / \"evaluation_data\" / \"cisi_all.csv\")\n",
    "documents"
   ],
   "id": "c8fb718de0154bbc",
   "outputs": [
    {
     "data": {
      "text/plain": [
       "      doc_id                                            content\n",
       "0          1   18 Editions of the Dewey Decimal Classificati...\n",
       "1          2  Use Made of Technical Libraries Slater, M. Thi...\n",
       "2          3  Two Kinds of Power An Essay on Bibliographic C...\n",
       "3          4  Systems Analysis of a University Library; fina...\n",
       "4          5  A Library Management Game: a report on a resea...\n",
       "...      ...                                                ...\n",
       "1455    1456  World Dynamics Forrester, J.W. Over the last s...\n",
       "1456    1457  World Trends in Library Education Bramley, G. ...\n",
       "1457    1458  Legal Restrictions on Exploitation of the Pate...\n",
       "1458    1459  Language and Thought Poluskin, V.A. This book ...\n",
       "1459    1460  Modern Integral Information Systems for Chemis...\n",
       "\n",
       "[1460 rows x 2 columns]"
      ],
      "text/html": [
       "<div>\n",
       "<style scoped>\n",
       "    .dataframe tbody tr th:only-of-type {\n",
       "        vertical-align: middle;\n",
       "    }\n",
       "\n",
       "    .dataframe tbody tr th {\n",
       "        vertical-align: top;\n",
       "    }\n",
       "\n",
       "    .dataframe thead th {\n",
       "        text-align: right;\n",
       "    }\n",
       "</style>\n",
       "<table border=\"1\" class=\"dataframe\">\n",
       "  <thead>\n",
       "    <tr style=\"text-align: right;\">\n",
       "      <th></th>\n",
       "      <th>doc_id</th>\n",
       "      <th>content</th>\n",
       "    </tr>\n",
       "  </thead>\n",
       "  <tbody>\n",
       "    <tr>\n",
       "      <th>0</th>\n",
       "      <td>1</td>\n",
       "      <td>18 Editions of the Dewey Decimal Classificati...</td>\n",
       "    </tr>\n",
       "    <tr>\n",
       "      <th>1</th>\n",
       "      <td>2</td>\n",
       "      <td>Use Made of Technical Libraries Slater, M. Thi...</td>\n",
       "    </tr>\n",
       "    <tr>\n",
       "      <th>2</th>\n",
       "      <td>3</td>\n",
       "      <td>Two Kinds of Power An Essay on Bibliographic C...</td>\n",
       "    </tr>\n",
       "    <tr>\n",
       "      <th>3</th>\n",
       "      <td>4</td>\n",
       "      <td>Systems Analysis of a University Library; fina...</td>\n",
       "    </tr>\n",
       "    <tr>\n",
       "      <th>4</th>\n",
       "      <td>5</td>\n",
       "      <td>A Library Management Game: a report on a resea...</td>\n",
       "    </tr>\n",
       "    <tr>\n",
       "      <th>...</th>\n",
       "      <td>...</td>\n",
       "      <td>...</td>\n",
       "    </tr>\n",
       "    <tr>\n",
       "      <th>1455</th>\n",
       "      <td>1456</td>\n",
       "      <td>World Dynamics Forrester, J.W. Over the last s...</td>\n",
       "    </tr>\n",
       "    <tr>\n",
       "      <th>1456</th>\n",
       "      <td>1457</td>\n",
       "      <td>World Trends in Library Education Bramley, G. ...</td>\n",
       "    </tr>\n",
       "    <tr>\n",
       "      <th>1457</th>\n",
       "      <td>1458</td>\n",
       "      <td>Legal Restrictions on Exploitation of the Pate...</td>\n",
       "    </tr>\n",
       "    <tr>\n",
       "      <th>1458</th>\n",
       "      <td>1459</td>\n",
       "      <td>Language and Thought Poluskin, V.A. This book ...</td>\n",
       "    </tr>\n",
       "    <tr>\n",
       "      <th>1459</th>\n",
       "      <td>1460</td>\n",
       "      <td>Modern Integral Information Systems for Chemis...</td>\n",
       "    </tr>\n",
       "  </tbody>\n",
       "</table>\n",
       "<p>1460 rows × 2 columns</p>\n",
       "</div>"
      ]
     },
     "execution_count": 3,
     "metadata": {},
     "output_type": "execute_result"
    }
   ],
   "execution_count": 3
  },
  {
   "metadata": {
    "ExecuteTime": {
     "end_time": "2025-05-07T18:21:56.100597Z",
     "start_time": "2025-05-07T18:21:56.069286Z"
    }
   },
   "cell_type": "code",
   "source": "documents['content'].value_counts()",
   "id": "a7e8709de48e2704",
   "outputs": [
    {
     "data": {
      "text/plain": [
       "content\n",
       "Modern Integral Information Systems for Chemistry and Chemical Technology Chernyi, A.I. At the present time, about 15% of all the world publications of scientific and technical literature relate to chemistry and chemical technology.  Each year throughout the world more than 250,000 documents are published:  journal papers, specifications for authors' certificates and patents, scientific and technical reports, monographs, etc., and in the last twenty years the number of such documents has increased by an average of 9% a year.  In these scientific documents information on 100-150 thousand new chemical compounds is published.                                                                                                                                                                                                                                                                                                                                                                                                                                                                                                                                                                                                                                                                                                                                                                                                                                                                                                                                                                                                                                                                                                                                                    1\n",
       " 18 Editions of the Dewey Decimal Classifications Comaromi, J.P. The present study is a history of the DEWEY Decimal Classification.  The first edition of the DDC was published in 1876, the eighteenth edition in 1971, and future editions will continue to appear as needed.  In spite of the DDC's long and healthy life, however, its full story has never been told.  There have been biographies of Dewey that briefly describe his system, but this is the first attempt to provide a detailed history of the work that more than any other has spurred the growth of librarianship in this country and abroad.                                                                                                                                                                                                                                                                                                                                                                                                                                                                                                                                                                                                                                                                                                                                                                                                                                                                                                                                                                                                                                                                                                                                                                                  1\n",
       "Use Made of Technical Libraries Slater, M. This report is an analysis of 6300 acts of use in 104 technical libraries in the United Kingdom. Library use is only one aspect of the wider pattern of information use.  Information transfer in libraries is restricted to the use of documents.  It takes no account of documents used outside the library, still less of information transferred orally from person to person.  The library acts as a channel in only a proportion of the situations in which information is transferred. Taking technical information transfer as a whole, there is no doubt that this proportion is not the major one.  There are users of technical information - particularly in technology rather than science - who visit libraries rarely if at all, relying on desk collections of handbooks, current periodicals and personal contact with their colleagues and with people in other organizations.  Even regular library users also receive information in other ways.                                                                                                                                                                                                                                                                                                                                                                                                                                                                                                                                                                                                                                                                                                                                                                                           1\n",
       "Two Kinds of Power An Essay on Bibliographic Control Wilson, P. The relationships between the organization and control of writings and the organization and control of knowledge and information will inevitably enter our story, for writings contain, along with much else, a great deal of mankind's stock of knowledge and information.  Bibliographical control is a form of power, and if knowledge itself is a form of power, as the familiar slogan claims, bibliographical control is in a certain sense power over power, power to obtain the knowledge recorded in written form.  As writings are not simply, and not in any simple way, storehouses of knowledge, we cannot satisfactorily discuss bibliographical control as simply control over the knowledge and information contained in writings.                                                                                                                                                                                                                                                                                                                                                                                                                                                                                                                                                                                                                                                                                                                                                                                                                                                                                                                                                                                        1\n",
       "The Case of Citation Data in Writing the History of Science Garfield, E. Can a computer write the history of science?  Probably not in the sense usually implied.  However, the research reported herein is a preliminary attempt to understand and define some basic problems that must be solved if computers are ever to aid the historian of science - no less supplant him. In this study, it was necessary to select a recent important scientific breakthrough which was based on the cumulation of years of diverse scientific achievement.  For this reason we selected the discovery of the DNA code.  For a concise historical description of the events, we then selected \"The Genetic Code,\" a book by Dr. Isaac Asimov which describes the major scientific developments that eventually led to the duplication in the laboratory of the process of protein synthesis under control of DNA.                                                                                                                                                                                                                                                                                                                                                                                                                                                                                                                                                                                                                                                                                                                                                                                                                                                                                                 1\n",
       "                                                                                                                                                                                                                                                                                                                                                                                                                                                                                                                                                                                                                                                                                                                                                                                                                                                                                                                                                                                                                                                                                                                                                                                                                                                                                                                                                                                                                                                                                                                                                                                                                                                                                                                                                                                                         ..\n",
       "Access to Libraries in College Hyman, R.T. This study assumed that an additional use study held less promise than an analytical consideration of concepts. The basic approach was a survey comparing traditional and current professional ideas on direct access.  Principal data-gathering instruments were documentary analysis and opinion questionnaire. Findings of the documentary analysis included the following: Research from 1890 to 1970 on the direct shelf approach and browsing left the problems largely unresolved and evidently resistant to established methods of use and user research.  The need for an exhaustive study of concepts was confirmed. Open shelf libraries--organized through shelf classification and relative location--were meant to arouse the intellectual, social, and political interest of the average citizen and affect his democratic self-realization. Definitions of \"browsing\" varied greatly: self-indulgence by the untutored in objectionable works; beneficial self-education for the general reader; valuable guidance for the scholar in his research.                                                                                                                                                                                                                                                                                                                                                                                                                                                                                                                                                                                                                                                                                            1\n",
       "The Academic Library Essays in Honor of Guy R. Lyle Farber, E.I. As important for staff members' individual development as was the apprenticeship in administration, perhaps the most significant attitude one acquired while working for Guy was engendered by his insistence that librarians must be interested in and knowledgeable about the content of the materials with which they dealt.  His love of literature, his respect for scholarship, his admiration for good writing and reading were manifested in many ways, but most notably in his admonition that, though we were primarily a research library, we must constantly keep in mind our obligation to collect contemporary poetry, fiction and belles-letters.  It was primarily up to the library staff, he felt, to be responsible for these as well as for \"general\" books which crossed disciplinary lines or fell between the disciplines, those books which a faculty mostly concerned with research materials is apt to overlook.  And in building this portion of the collection, \"there is no substitute for a thorough acquaintance with books through a reading of critical reviews and the books themselves.\"  This counsel is from The President, the Professor, and the College Library, but the importance of its thrust--the need to keep up with the world of books and publishing--was continually impressed upon us.                                                                                                                                                                                                                                                                                                                                                                                                1\n",
       "Academic Library Buildings A Guide to Architectural Issues and Solutions Ellsworth, R.E. This book attempts to present representative examples of successful architectural solutions to the important problems librarians and architects face in planning new college and university library buildings or in remodeling and enlarging existing structures.  It does not attempt to make case study evaluations, as was done by Ellsworth Mason for Brown and Yale.  Nor does it present examples of unsuccessful solutions except to show how to avoid mistakes, and in these cases the libraries will not be identified.                                                                                                                                                                                                                                                                                                                                                                                                                                                                                                                                                                                                                                                                                                                                                                                                                                                                                                                                                                                                                                                                                                                                                                                 1\n",
       "Abstracting Concepts and Methods Borko, H. Graduate library school study of abstracting should be more than a how-to-do-it course. It should include general material on the characteristcs and types of abstracts, the historical development of abstracting publications, the abstract-publishing industry (especially in the United States), and the need for standards in the preparation and evaluation of the product. These topics we call concepts. The text includes a methods section containing instructions for writing various types of abstracts, and for editing and preparing abstracting publications. These detailed instructions are supplemented by examples and exercises in the appendix. There is a brief discussion of indexing of abstract publications. Research on automation has been treated extensively in this work, for we believe that the topic deserves greater emphasis than it has received in the past. Computer use is becoming increasingly important in all aspects of librarianship. Much research effort has been expended on the preparation and evaluation of computer-prepared abstracts and extracts. Students, librarians, and abstractors will benefit from knowing about this research and understanding how computer programs were researched to analyze text, select key sentences, and prepare extracts and abstracts. The benefits of this research are discussed. Abstracting is a key segment of the information industry. Opportunities are available for both full-time professionals and part-time or volunteer workers. Many librarians find such activities pleasant and rewarding, for they know they are contributing to the more effective use of stored information. One chapter is devoted to career opportunities for abstractors.     1\n",
       "A Library Management Game: a report on a research project Brophy, P. Although the use of games in professional education has become widespread only during the last decade, the method has been used in a number of fields for many hundreds of years. Its origins have been traced to simple war games, used in military training when the \"real thing\" was either unavailable or too dangerous.  In more recent times, these games have become more and more sophisticated, and many now use large electronic computers to handle the complex calculations involved. Since 1956, when the first well-developed management game was introduced, the technique has spread rapidly into a wide variety of disciplines and today it is used at all levels of education, from primary school classes to courses for experienced professional men and women.  One of the main causes of this \"game explosion\" has been the rapid development of sophisticated management techniques, such as simulation and mathematical modelling, which have been made possible by rapid advances in computer technology.                                                                                                                                                                                                                                                                                                                                                                                                                                                                                                                                                                                                                                                                                                   1\n",
       "Name: count, Length: 1460, dtype: int64"
      ]
     },
     "execution_count": 101,
     "metadata": {},
     "output_type": "execute_result"
    }
   ],
   "execution_count": 101
  },
  {
   "metadata": {
    "ExecuteTime": {
     "end_time": "2025-05-09T15:12:24.415120Z",
     "start_time": "2025-05-09T15:12:24.391738Z"
    }
   },
   "cell_type": "code",
   "source": [
    "# queries\n",
    "queries = pd.read_csv(current_path / \"evaluation_data\" / \"cisi_qry.csv\")"
   ],
   "id": "cff12a86cbf94c5",
   "outputs": [],
   "execution_count": 4
  },
  {
   "metadata": {
    "ExecuteTime": {
     "end_time": "2025-05-09T15:12:25.626702Z",
     "start_time": "2025-05-09T15:12:25.616179Z"
    }
   },
   "cell_type": "code",
   "source": "queries",
   "id": "ff1135b17919d686",
   "outputs": [
    {
     "data": {
      "text/plain": [
       "     query_id                                            content\n",
       "0           1  What problems and concerns are there in making...\n",
       "1           2  How can actually pertinent data, as opposed to...\n",
       "2           3  What is information science?  Give definitions...\n",
       "3           4  Image recognition and any other methods of aut...\n",
       "4           5  What special training will ordinary researcher...\n",
       "..        ...                                                ...\n",
       "107       108  A Program for Machine-Mediated Searching A tec...\n",
       "108       109  Author Cocitation:  A Literature Measure of In...\n",
       "109       110  Progress in Documentation.  Word Processing: A...\n",
       "110       111  Document Clustering Using an Inverted File App...\n",
       "111       112  A Fast Procedure for the Calculation of Simila...\n",
       "\n",
       "[112 rows x 2 columns]"
      ],
      "text/html": [
       "<div>\n",
       "<style scoped>\n",
       "    .dataframe tbody tr th:only-of-type {\n",
       "        vertical-align: middle;\n",
       "    }\n",
       "\n",
       "    .dataframe tbody tr th {\n",
       "        vertical-align: top;\n",
       "    }\n",
       "\n",
       "    .dataframe thead th {\n",
       "        text-align: right;\n",
       "    }\n",
       "</style>\n",
       "<table border=\"1\" class=\"dataframe\">\n",
       "  <thead>\n",
       "    <tr style=\"text-align: right;\">\n",
       "      <th></th>\n",
       "      <th>query_id</th>\n",
       "      <th>content</th>\n",
       "    </tr>\n",
       "  </thead>\n",
       "  <tbody>\n",
       "    <tr>\n",
       "      <th>0</th>\n",
       "      <td>1</td>\n",
       "      <td>What problems and concerns are there in making...</td>\n",
       "    </tr>\n",
       "    <tr>\n",
       "      <th>1</th>\n",
       "      <td>2</td>\n",
       "      <td>How can actually pertinent data, as opposed to...</td>\n",
       "    </tr>\n",
       "    <tr>\n",
       "      <th>2</th>\n",
       "      <td>3</td>\n",
       "      <td>What is information science?  Give definitions...</td>\n",
       "    </tr>\n",
       "    <tr>\n",
       "      <th>3</th>\n",
       "      <td>4</td>\n",
       "      <td>Image recognition and any other methods of aut...</td>\n",
       "    </tr>\n",
       "    <tr>\n",
       "      <th>4</th>\n",
       "      <td>5</td>\n",
       "      <td>What special training will ordinary researcher...</td>\n",
       "    </tr>\n",
       "    <tr>\n",
       "      <th>...</th>\n",
       "      <td>...</td>\n",
       "      <td>...</td>\n",
       "    </tr>\n",
       "    <tr>\n",
       "      <th>107</th>\n",
       "      <td>108</td>\n",
       "      <td>A Program for Machine-Mediated Searching A tec...</td>\n",
       "    </tr>\n",
       "    <tr>\n",
       "      <th>108</th>\n",
       "      <td>109</td>\n",
       "      <td>Author Cocitation:  A Literature Measure of In...</td>\n",
       "    </tr>\n",
       "    <tr>\n",
       "      <th>109</th>\n",
       "      <td>110</td>\n",
       "      <td>Progress in Documentation.  Word Processing: A...</td>\n",
       "    </tr>\n",
       "    <tr>\n",
       "      <th>110</th>\n",
       "      <td>111</td>\n",
       "      <td>Document Clustering Using an Inverted File App...</td>\n",
       "    </tr>\n",
       "    <tr>\n",
       "      <th>111</th>\n",
       "      <td>112</td>\n",
       "      <td>A Fast Procedure for the Calculation of Simila...</td>\n",
       "    </tr>\n",
       "  </tbody>\n",
       "</table>\n",
       "<p>112 rows × 2 columns</p>\n",
       "</div>"
      ]
     },
     "execution_count": 5,
     "metadata": {},
     "output_type": "execute_result"
    }
   ],
   "execution_count": 5
  },
  {
   "metadata": {
    "ExecuteTime": {
     "end_time": "2025-05-09T15:12:42.470500Z",
     "start_time": "2025-05-09T15:12:42.445085Z"
    }
   },
   "cell_type": "code",
   "source": [
    "# QRELS\n",
    "qrels = pd.read_csv(current_path / \"evaluation_data\" / \"cisi_rel.csv\")"
   ],
   "id": "9062573ff1dc952a",
   "outputs": [],
   "execution_count": 6
  },
  {
   "metadata": {
    "ExecuteTime": {
     "end_time": "2025-05-09T15:12:43.634309Z",
     "start_time": "2025-05-09T15:12:43.617624Z"
    }
   },
   "cell_type": "code",
   "source": "qrels[qrels['query_id'] == 1]['doc_id'].unique()",
   "id": "42b01c8838c6e156",
   "outputs": [
    {
     "data": {
      "text/plain": [
       "array([  28,   35,   38,   42,   43,   52,   65,   76,   86,  150,  189,\n",
       "        192,  193,  195,  215,  269,  291,  320,  429,  465,  466,  482,\n",
       "        483,  510,  524,  541,  576,  582,  589,  603,  650,  680,  711,\n",
       "        722,  726,  783,  813,  820,  868,  869,  894, 1162, 1164, 1195,\n",
       "       1196, 1281])"
      ]
     },
     "execution_count": 7,
     "metadata": {},
     "output_type": "execute_result"
    }
   ],
   "execution_count": 7
  }
 ],
 "metadata": {
  "kernelspec": {
   "display_name": "Python 3",
   "language": "python",
   "name": "python3"
  },
  "language_info": {
   "codemirror_mode": {
    "name": "ipython",
    "version": 2
   },
   "file_extension": ".py",
   "mimetype": "text/x-python",
   "name": "python",
   "nbconvert_exporter": "python",
   "pygments_lexer": "ipython2",
   "version": "2.7.6"
  }
 },
 "nbformat": 4,
 "nbformat_minor": 5
}
